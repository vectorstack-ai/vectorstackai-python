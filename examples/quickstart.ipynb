{
 "cells": [
  {
   "cell_type": "markdown",
   "metadata": {},
   "source": [
    "## Create an Index\n",
    "\n",
    "**PreciseSearch** supports two types of indexes: Dense Indexes and Hybrid Indexes. Dense indexes search over dense vector representations of the data, where as hybrid indexes search over a combination of dense and sparse representations of the data.\n",
    "\n",
    "In this quickstart, we will create a dense index with an integrated embedding model (hosted by VectorStackAI). With dense indexes configured with an integrated embedding model, during upsert and search, you only need to provide the text data. PreciseSearch will generate the dense vector representations of the data automatically."
   ]
  },
  {
   "cell_type": "code",
   "execution_count": 8,
   "metadata": {},
   "outputs": [
    {
     "name": "stdout",
     "output_type": "stream",
     "text": [
      "Request accepted: Index creation for 'my_dense_index' started.\n",
      "Index is not ready yet. Waiting for 2 seconds...\n"
     ]
    }
   ],
   "source": [
    "from vectorstackai import Client\n",
    "import time\n",
    "\n",
    "# Initialize the client with your API key\n",
    "client = Client(api_key=\"your_api_key\")\n",
    "\n",
    "# Create the index with an integrated embedding model (e.g., 'e5-small-v2')\n",
    "client.create_index(index_name=\"my_dense_index\", embedding_model_name=\"e5-small-v2\")\n",
    "\n",
    "# Wait for the index to be ready\n",
    "while client.get_index_info(index_name=\"my_dense_index\")['status'] != \"ready\":\n",
    "    time.sleep(2)\n",
    "    print(\"Index is not ready yet. Waiting for 2 seconds...\")\n",
    "\n",
    "# Connect to the index\n",
    "index = client.connect_to_index(index_name=\"my_dense_index\")"
   ]
  },
  {
   "cell_type": "markdown",
   "metadata": {},
   "source": [
    "## Upsert Data into the Index\n",
    "\n",
    "To upsert data into the index, you need to provide the text data and assign a unique ID to each data point.\n",
    "\n",
    "For this example, we will create a dataset with 10 random facts about food and history."
   ]
  },
  {
   "cell_type": "code",
   "execution_count": 9,
   "metadata": {},
   "outputs": [
    {
     "name": "stdout",
     "output_type": "stream",
     "text": [
      "index_name: my_dense_index\n",
      "num_records: 10\n",
      "dimension: 384\n",
      "metric: dotproduct\n",
      "features_type: dense\n",
      "status: ready\n",
      "embedding_model_name: e5-small-v2\n",
      "optimized_for_latency: False\n"
     ]
    }
   ],
   "source": [
    "dataset = [\n",
    "    {\"id\": \"1\", \"text\": \"The shortest war in history was between Britain and Zanzibar on August 27, 1896. Zanzibar surrendered after just 38 minutes.\"},\n",
    "    {\"id\": \"2\", \"text\": \"Ancient Romans used bread as plates. After the meal, these edible plates were either eaten or given to the poor.\"},\n",
    "    {\"id\": \"3\", \"text\": \"The first chocolate bar was made in England by Fry's in 1847, marking the beginning of the modern chocolate industry.\"},\n",
    "    {\"id\": \"4\", \"text\": \"The Battle of Hastings in 1066 changed English history forever when William the Conqueror defeated King Harold II.\"},\n",
    "    {\"id\": \"5\", \"text\": \"The Great Wall of China took over 2000 years to build, with construction starting in the 7th century BCE.\"},\n",
    "    {\"id\": \"6\", \"text\": \"Ketchup was sold as medicine in the 1830s to treat diarrhea, indigestion, and other stomach problems.\"},\n",
    "    {\"id\": \"7\", \"text\": \"Pizza was invented in Naples, Italy in the late 1700s. The classic Margherita pizza was created in 1889.\"},\n",
    "    {\"id\": \"8\", \"text\": \"The first Thanksgiving feast in 1621 lasted for three days and included deer, fish, and wild fowl.\"},\n",
    "    {\"id\": \"9\", \"text\": \"The signing of the Magna Carta in 1215 limited the power of English monarchs and influenced modern democracy.\"},\n",
    "    {\"id\": \"10\", \"text\": \"During World War II, carrots were promoted by the British as helping pilots see better at night to hide radar technology.\"}\n",
    "]\n",
    "\n",
    "# Parse the ids and texts for batch upsert\n",
    "batch_ids = [item['id'] for item in dataset] \n",
    "batch_metadata = [{'text': item['text']} for item in dataset] \n",
    "\n",
    "# Upsert the data into the index\n",
    "index.upsert(batch_ids=batch_ids, \n",
    "             batch_metadata=batch_metadata)\n",
    "\n",
    "# Once the upsert is complete, you can check the number of vectors in the index via the index info\n",
    "index_info = index.info()\n",
    "for key, value in index_info.items():\n",
    "    print(f\"{key}: {value}\")"
   ]
  },
  {
   "cell_type": "markdown",
   "metadata": {},
   "source": [
    "## Search the index\n",
    "Now that we have our index ready, we can search it.\n",
    "In this example, we will search the index for the query \"Where was pizza invented?\".\n",
    "\n",
    "Since our index is configured with an integrated embedding model, we only need to provide the query text."
   ]
  },
  {
   "cell_type": "code",
   "execution_count": null,
   "metadata": {},
   "outputs": [
    {
     "name": "stdout",
     "output_type": "stream",
     "text": [
      "ID: 7, Similarity: 0.92, Text: Pizza was invented in Naples, Italy in the late 1700s. The classic Margherita pizza was created in 1889.\n",
      "ID: 2, Similarity: 0.80, Text: Ancient Romans used bread as plates. After the meal, these edible plates were either eaten or given to the poor.\n",
      "ID: 3, Similarity: 0.80, Text: The first chocolate bar was made in England by Fry's in 1847, marking the beginning of the modern chocolate industry.\n",
      "ID: 6, Similarity: 0.78, Text: Ketchup was sold as medicine in the 1830s to treat diarrhea, indigestion, and other stomach problems.\n",
      "ID: 10, Similarity: 0.77, Text: During World War II, carrots were promoted by the British as helping pilots see better at night to hide radar technology.\n"
     ]
    }
   ],
   "source": [
    "# Search the index\n",
    "search_results = index.search(query_text=\"Where was pizza invented?\", \n",
    "                       top_k=5)\n",
    "\n",
    "# Print the results\n",
    "for result in search_results:\n",
    "    print(f\"ID: {result['id']}, Similarity: {result['similarity']:.2f}, Text: {result['metadata']['text']}\")"
   ]
  },
  {
   "cell_type": "markdown",
   "metadata": {},
   "source": [
    "Notice that the results (shown above) are sorted in descending order of similarity, and contain results relevant to the query."
   ]
  },
  {
   "cell_type": "markdown",
   "metadata": {},
   "source": [
    "## Clean up\n",
    "Once you are done with the quickstart, you can delete the index."
   ]
  },
  {
   "cell_type": "code",
   "execution_count": 11,
   "metadata": {},
   "outputs": [],
   "source": [
    "index.delete(ask_for_confirmation=False)"
   ]
  }
 ],
 "metadata": {
  "kernelspec": {
   "display_name": "vector2search",
   "language": "python",
   "name": "vector2search"
  },
  "language_info": {
   "codemirror_mode": {
    "name": "ipython",
    "version": 3
   },
   "file_extension": ".py",
   "mimetype": "text/x-python",
   "name": "python",
   "nbconvert_exporter": "python",
   "pygments_lexer": "ipython3",
   "version": "3.10.12"
  }
 },
 "nbformat": 4,
 "nbformat_minor": 2
}
