{
 "cells": [
  {
   "cell_type": "markdown",
   "metadata": {},
   "source": [
    "# Introduction\n",
    "In this tutorial, we will build a semantic search application that retrieves the most relevant passages for a given query using **PreciseSearch**. \n",
    "\n",
    "Unlike traditional retrieval setups, which require generating embeddings for both queries and passages, **PreciseSearch** simplifies the process with its integrated embedding model—eliminating the need to generate embeddings during upsert and search.\n",
    "\n",
    "### Implementation Steps\n",
    "1. Setup Knowledge Base – We will use the [MS MARCO dataset](https://huggingface.co/datasets/microsoft/ms_marco), which contains real Bing search queries paired with relevant passages to construct a knowledge base.\n",
    "2. Skip Embedding Generation – Since PreciseSearch handles embeddings internally, we can skip this step entirely! \n",
    "3. Indexing for Search – Build an efficient search index with PreciseSearch's SDK for fast and accurate retrieval.\n",
    "\n",
    "By the end, you'll have a fully functional semantic search system capable of understanding natural language queries. 🚀"
   ]
  },
  {
   "cell_type": "markdown",
   "metadata": {},
   "source": [
    "## 1. Install dependencies\n",
    "\n",
    "To get started, install the required Python packages:\n",
    "\n",
    "- `vectorstackai`: A package for building and querying semantic search indexes. It provides seamless integration with PreciseSearch, a high-performance search solution from [VectorStackAI](https://vectorstack.ai), designed for efficient and accurate retrieval.\n",
    "- `datasets, huggingface_hub, fsspec`: Libraries to load and process the MS MARCO dataset.\n",
    "\n",
    "Run the following command to install the packages:\n"
   ]
  },
  {
   "cell_type": "code",
   "execution_count": 1,
   "metadata": {},
   "outputs": [
    {
     "name": "stdout",
     "output_type": "stream",
     "text": [
      "\n",
      "\u001b[1m[\u001b[0m\u001b[34;49mnotice\u001b[0m\u001b[1;39;49m]\u001b[0m\u001b[39;49m A new release of pip is available: \u001b[0m\u001b[31;49m24.3.1\u001b[0m\u001b[39;49m -> \u001b[0m\u001b[32;49m25.0.1\u001b[0m\n",
      "\u001b[1m[\u001b[0m\u001b[34;49mnotice\u001b[0m\u001b[1;39;49m]\u001b[0m\u001b[39;49m To update, run: \u001b[0m\u001b[32;49mpip install --upgrade pip\u001b[0m\n",
      "Note: you may need to restart the kernel to use updated packages.\n"
     ]
    }
   ],
   "source": [
    "# Install vectorstackai\n",
    "%pip install -q vectorstackai\n",
    "# Install datasets, huggingface_hub and fsspec for loading the MS MARCO dataset\n",
    "%pip install -q -U datasets huggingface_hub fsspec"
   ]
  },
  {
   "cell_type": "markdown",
   "metadata": {},
   "source": [
    "## 2. Download and prepare the dataset (MS MARCO)"
   ]
  },
  {
   "cell_type": "code",
   "execution_count": 1,
   "metadata": {},
   "outputs": [
    {
     "name": "stderr",
     "output_type": "stream",
     "text": [
      "/workspace/venv/vector2search/lib/python3.10/site-packages/tqdm/auto.py:21: TqdmWarning: IProgress not found. Please update jupyter and ipywidgets. See https://ipywidgets.readthedocs.io/en/stable/user_install.html\n",
      "  from .autonotebook import tqdm as notebook_tqdm\n"
     ]
    }
   ],
   "source": [
    "# Download and prepare the dataset (MS MARCO) from Hugging Face\n",
    "from datasets import load_dataset\n",
    "ds = load_dataset(\"microsoft/ms_marco\", \"v1.1\")"
   ]
  },
  {
   "cell_type": "code",
   "execution_count": 2,
   "metadata": {},
   "outputs": [
    {
     "name": "stdout",
     "output_type": "stream",
     "text": [
      "Query:  was ronald reagan a democrat\n",
      "List of passages: \n",
      "In his younger years, Ronald Reagan was a member of the Democratic Party and campaigned for Democratic candidates; however, his views grew more conservative over time, and in the early 1960s he officially became a Republican. In November 1984, Ronald Reagan was reelected in a landslide, defeating Walter Mondale and his running mate Geraldine Ferraro (1935-), the first female vice-presidential candidate from a major U.S. political party.\n",
      "----------------------------------------------------------------------------------------------------\n",
      "From Wikipedia, the free encyclopedia. A Reagan Democrat is a traditionally Democratic voter in the United States, especially a white working-class Northerner, who defected from their party to support Republican President Ronald Reagan in either or both the 1980 and 1984 elections. During the 1980 election a dramatic number of voters in the U.S., disillusioned with the economic 'malaise' of the 1970s and the presidency of Jimmy Carter (even more than, four years earlier, Liberal Republican Gerald Ford), supported former California governor (and former Democrat) Ronald Reagan.\n",
      "----------------------------------------------------------------------------------------------------\n",
      "Ronald Reagan began his political life in the Democratic Party, but as he became more and more conservative, he ultimately changed to the Republican Party in the early 1960s. Yes, he switched parties in 1962. He said that he did not desert the Democrats but rather they deserted him. Yes, Ronald Reagan was a member of the Democratic Party until he s … witched to the Republican Party in 1962, at the age of 51. 8 people found this useful.\n",
      "----------------------------------------------------------------------------------------------------\n",
      "Ronald Wilson Reagan (/ˈrɒnəld ˈwɪlsən ˈreɪɡən/ ; February 6, 1911 – June 5, 2004) was an American politician, commentator, and actor, who served as the 40th President of the United States from 1981 to 1989. I think Ronald Reagan changed the trajectory of America in a way that Richard Nixon did not and in a way that Bill Clinton did not. He put us on a fundamentally different path because the country was ready for it.\n",
      "----------------------------------------------------------------------------------------------------\n",
      "When Reagan was a 'liberal Democrat'. In 1948, a very different sounding Ronald Reagan campaigned on the radio for Democrat Harry Truman. Listen to the old audio recording. ... more Duration: {{video.duration.momentjs}}. \n",
      "----------------------------------------------------------------------------------------------------\n",
      "Ronald Reagan (1911-2004), a former actor and California governor, served as the 40th U.S. president from 1981 to 1989. Raised in small-town Illinois, he became a Hollywood actor in his 20s and later served as the Republican governor of California from 1967 to 1975. In November 1984, Ronald Reagan was reelected in a landslide, defeating Walter Mondale and his running mate Geraldine Ferraro (1935-), the first female vice-presidential candidate from a major U.S. political party.\n",
      "----------------------------------------------------------------------------------------------------\n",
      "1984 Re-Election. In November 1984, Ronald Reagan was re-elected in a landslide, defeating Democratic challenger Walter Mondale. Reagan carried 49 of the 50 U.S. states in the election, and received 525 of 538 electoral votes—the largest number ever won by an American presidential candidate. \n",
      "----------------------------------------------------------------------------------------------------\n"
     ]
    }
   ],
   "source": [
    "# We will use the first 100 samples from the training set\n",
    "ds_tutorial = ds['train'].select(range(100))\n",
    "\n",
    "sample = ds_tutorial[1]\n",
    "\n",
    "# Each sample contains:\n",
    "# query: the question\n",
    "# list_of_passages: a list of passages which are relevant to the question\n",
    "query = sample['query']\n",
    "list_of_passages = sample['passages']['passage_text']\n",
    "\n",
    "print('Query: ', query)\n",
    "print('List of passages: ')\n",
    "for passage in list_of_passages:\n",
    "    print(passage)\n",
    "    print('-'*100)"
   ]
  },
  {
   "cell_type": "code",
   "execution_count": 3,
   "metadata": {},
   "outputs": [
    {
     "name": "stdout",
     "output_type": "stream",
     "text": [
      "Collected  814  passages for our knowledge base\n"
     ]
    }
   ],
   "source": [
    "# We will collect all the passage texts to make our knowledge base\n",
    "knowledge_base = []\n",
    "for sample in ds_tutorial:\n",
    "    list_of_passages = sample['passages']['passage_text']\n",
    "    knowledge_base.append(list_of_passages)\n",
    "\n",
    "# Flatten the list of passages\n",
    "knowledge_base = [item for sublist in knowledge_base for item in sublist]\n",
    "\n",
    "print('Collected ', len(knowledge_base), ' passages for our knowledge base')"
   ]
  },
  {
   "cell_type": "markdown",
   "metadata": {},
   "source": [
    "## 3. Create a search index\n",
    "\n",
    "With our knowledge base ready, it's time to build a search index for efficient retrieval.\n",
    "We'll use **PreciseSearch** to create a high-performance index, enabling fast and accurate passage retrieval.\n",
    "\n",
    "Note, since we are creating an index with integrated embedding model, we need to specify the integrated embedding model during index creation.\n",
    "In the example below, we will create a search index using the integrated embedding model `e5-small-v2`."
   ]
  },
  {
   "cell_type": "code",
   "execution_count": 4,
   "metadata": {},
   "outputs": [
    {
     "name": "stdout",
     "output_type": "stream",
     "text": [
      "Request accepted: Index creation for 'ms_marco_dense_index' started.\n",
      "Index is not ready yet. Waiting for 5 seconds...\n",
      "Connected to the index\n"
     ]
    }
   ],
   "source": [
    "from vectorstackai import PreciseSearch\n",
    "import time\n",
    "\n",
    "precise_search_client = PreciseSearch(\n",
    "    api_key=\"your_api_key\"\n",
    "    ) # Replace with your own PreciseSearch API key\n",
    "\n",
    "# Create the index \n",
    "precise_search_client.create_index(index_name=\"ms_marco_dense_index\", \n",
    "                                   embedding_model_name=\"e5-small-v2\", # Name of the integrated embedding model\n",
    "                                   metric=\"cosine\") # Metric for similarity computation\n",
    "\n",
    "# Wait for the index to be ready\n",
    "while precise_search_client.index_status(index_name=\"ms_marco_dense_index\") != \"ready\":\n",
    "    time.sleep(5)\n",
    "    print(\"Index is not ready yet. Waiting for 5 seconds...\")\n",
    "    \n",
    "# Connect to the index\n",
    "index = precise_search_client.connect_to_index(index_name=\"ms_marco_dense_index\")\n",
    "print('Connected to the index')"
   ]
  },
  {
   "cell_type": "markdown",
   "metadata": {},
   "source": [
    "## 5. Upload dense embeddings to the index\n",
    "\n",
    "PreciseSearch features an integrated embedding model, eliminating the need to manually generate embeddings for your knowledge base. \n",
    "During upsert, PreciseSearch automatically generates embeddings, streamlining the process.\n",
    "\n",
    "To enable this, simply provide the passage text as metadata. PreciseSearch will handle embedding generation seamlessly.\n",
    "\n",
    "- Required inputs:\n",
    "  - batch_ids (List[str]): Unique identifiers for each passage.\n",
    "  - batch_metadata (List[Dict[str, Any]]): Metadata for each passage. Contains the text that will be embedded.\n",
    "\n"
   ]
  },
  {
   "cell_type": "code",
   "execution_count": 5,
   "metadata": {},
   "outputs": [
    {
     "name": "stdout",
     "output_type": "stream",
     "text": [
      "Embeddings uploaded to the index\n"
     ]
    }
   ],
   "source": [
    "# Convert the data in the required format\n",
    "batch_ids = [str(i) for i in list(range(len(knowledge_base)))]\n",
    "batch_metadata = [{\"text\": passage} for passage in knowledge_base]\n",
    "\n",
    "index.upsert(batch_ids=batch_ids, \n",
    "             batch_metadata=batch_metadata)\n",
    "print('Embeddings uploaded to the index')"
   ]
  },
  {
   "cell_type": "markdown",
   "metadata": {},
   "source": [
    "## 6. Querying the index\n",
    "\n",
    "Now that we have uploaded the data to the index, we can query it. \n",
    "\n",
    "Given an input query as a text, PreciseSearch will generate an embedding for the query and then search for the most relevant passages in the index. "
   ]
  },
  {
   "cell_type": "code",
   "execution_count": 7,
   "metadata": {},
   "outputs": [
    {
     "name": "stdout",
     "output_type": "stream",
     "text": [
      "664\n",
      "0.89013671875\n",
      "{'text': 'Cooked Food: Leftover, cooked foods should be kept in the refrigerator in an airtight container and eaten within 4-5 days. Food, whether cooked or not, should not be left at room temperature for more than 4 hours otherwise the risk of food poisoning increases. You can refrigerate them for up to 5 days as long as they are stored properly — wrapped in a paper towel and then sealed inside a plastic bag. Fresh Beans/Peas: Depending on the variety, they can be kept, tightly wrapped, in the refrigerator for 3-5 days.'}\n",
      "----------------------------------------------------------------------------------------------------\n",
      "291\n",
      "0.88427734375\n",
      "{'text': '1 Use a food thermometer to measure the internal temperature of cooked foods. 2  Check the internal temperature in several places to make sure that the meat, poultry, seafood, eggs or dishes containing eggs are cooked to safe minimum internal temperatures as shown in the Safe Cooking Temperatures Chart. To chill foods properly: 1  Refrigerate or freeze meat, poultry, eggs, seafood and other perishables within 2 hours of cooking or purchasing. 2  Refrigerate within 1 hour if the temperature outside is above 90ºF. 3  Never thaw food at room temperature, such as on the counter top.'}\n",
      "----------------------------------------------------------------------------------------------------\n",
      "663\n",
      "0.88330078125\n",
      "{'text': 'Kitchen Fact: Cooked food stored in the refrigerator should be eaten in 3 to 4 days. After food is cooked, it should sit out at room temperature no more than two hours before being refrigerated to slow down bacteria growth. But once stored in the fridge, leftovers should be eaten up within three to four days because bacteria can still grow even at refrigerator temperatures. To help you remember how long something has been in the fridge, we recommend labeling it with the date it was cooked to help you keep track!'}\n",
      "----------------------------------------------------------------------------------------------------\n",
      "662\n",
      "0.880859375\n",
      "{'text': 'Cooked food sitting at room temperature is in what the USDA calls the Danger Zone, which is between 40 ° F and 140 ° F. In this range of temperatures, bacteria grows rapidly and the food can become unsafe to eat, so it should only be left out no more than two hours. '}\n",
      "----------------------------------------------------------------------------------------------------\n",
      "287\n",
      "0.87451171875\n",
      "{'text': 'The United States Department of Agriculture (USDA) recommends cooking ground beef, pork and lamb patties or mixtures such as meat loaf to 160°F. Whole pork cuts such as chops and roasts should be cooked to 145°F (medium), or 170°F (well done). 1 All meat should be thawed before cooking in the microwave (even it is thawed in the microwave) to produce a high quality product. 2  For safety reasons, do not cook poultry from the frozen state. 3  Arrange meat uniformly in the cookware. 4  Boneless meat cooks most evenly so debone large pieces of meat.'}\n",
      "----------------------------------------------------------------------------------------------------\n"
     ]
    }
   ],
   "source": [
    "query = \"How should I store cooked food\"\n",
    "\n",
    "# Search for the most relevant passages\n",
    "search_results = index.search(query_text=query, \n",
    "                       top_k=5\n",
    "                       )\n",
    "\n",
    "# Print the results\n",
    "for result in search_results:\n",
    "    print(result['id'])\n",
    "    print(result['similarity'])\n",
    "    print(result['metadata'])\n",
    "    print('-'*100)"
   ]
  },
  {
   "cell_type": "markdown",
   "metadata": {},
   "source": [
    "The search results are returned as a list of dictionaries, where each dictionary contains the following keys:\n",
    "\n",
    "- `id`: The identifier of the matching document/vector.\n",
    "- `similarity`: The similarity score for the match (higher is typically more relevant).\n",
    "- `metadata`: Any additional metadata stored with the vector (only returned if `return_metadata=True`).\n",
    "\n",
    "In the search results shown above, we can note the following:\n",
    "\n",
    "- The results are sorted by similarity score, meaning the first result is the most relevant.\n",
    "- The results are relevant to the query!\n",
    "\n",
    "## 7. Clean up\n",
    "Feel free to play with the query and see the results.\n",
    "Once you are done with the tutorial, you can delete the index."
   ]
  },
  {
   "cell_type": "code",
   "execution_count": 8,
   "metadata": {},
   "outputs": [
    {
     "name": "stdout",
     "output_type": "stream",
     "text": [
      "Are you sure you want to delete index 'ms_marco_dense_index'? This action is irreversible.\n"
     ]
    },
    {
     "name": "stdout",
     "output_type": "stream",
     "text": [
      "Index deletion for 'ms_marco_dense_index' started.\n"
     ]
    }
   ],
   "source": [
    "precise_search_client.delete_index(index_name=\"ms_marco_dense_index\")"
   ]
  }
 ],
 "metadata": {
  "kernelspec": {
   "display_name": "Python (vector2search)",
   "language": "python",
   "name": "vector2search"
  },
  "language_info": {
   "codemirror_mode": {
    "name": "ipython",
    "version": 3
   },
   "file_extension": ".py",
   "mimetype": "text/x-python",
   "name": "python",
   "nbconvert_exporter": "python",
   "pygments_lexer": "ipython3",
   "version": "3.10.12"
  }
 },
 "nbformat": 4,
 "nbformat_minor": 2
}
