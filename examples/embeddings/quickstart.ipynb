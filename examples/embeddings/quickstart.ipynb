{
 "cells": [
  {
   "cell_type": "markdown",
   "metadata": {},
   "source": [
    "## **1. Install the SDK**\n",
    "**VectorStackAI Embeddings** is an embeddings-as-a-service product by [VectorStackAI](https://vectorstack.ai), \n",
    "designed to provide state-of-the-art domain-specific embeddings. \n",
    "Currently, we offer a Python SDK to interact with the VectorStackAI Embeddings service.\n",
    "To get started, install the VectorStackAI Python SDK using pip:"
   ]
  },
  {
   "cell_type": "code",
   "execution_count": 4,
   "metadata": {},
   "outputs": [
    {
     "name": "stdout",
     "output_type": "stream",
     "text": [
      "Requirement already satisfied: vectorstackai in ./src (0.1.6)\n",
      "Collecting vectorstackai\n",
      "  Downloading vectorstackai-0.2.1-py3-none-any.whl.metadata (1.2 kB)\n",
      "Requirement already satisfied: requests>=2.32.3 in /workspace/venv/vector2search/lib/python3.10/site-packages (from vectorstackai) (2.32.3)\n",
      "Requirement already satisfied: tenacity==8.5.0 in /workspace/venv/vector2search/lib/python3.10/site-packages (from vectorstackai) (8.5.0)\n",
      "Requirement already satisfied: numpy>=1.26.0 in /workspace/venv/vector2search/lib/python3.10/site-packages (from vectorstackai) (2.1.2)\n",
      "Requirement already satisfied: charset-normalizer<4,>=2 in /workspace/venv/vector2search/lib/python3.10/site-packages (from requests>=2.32.3->vectorstackai) (3.4.0)\n",
      "Requirement already satisfied: idna<4,>=2.5 in /workspace/venv/vector2search/lib/python3.10/site-packages (from requests>=2.32.3->vectorstackai) (3.10)\n",
      "Requirement already satisfied: urllib3<3,>=1.21.1 in /workspace/venv/vector2search/lib/python3.10/site-packages (from requests>=2.32.3->vectorstackai) (2.2.3)\n",
      "Requirement already satisfied: certifi>=2017.4.17 in /workspace/venv/vector2search/lib/python3.10/site-packages (from requests>=2.32.3->vectorstackai) (2024.8.30)\n",
      "Downloading vectorstackai-0.2.1-py3-none-any.whl (18 kB)\n",
      "Installing collected packages: vectorstackai\n",
      "  Attempting uninstall: vectorstackai\n",
      "    Found existing installation: vectorstackai 0.1.6\n",
      "    Uninstalling vectorstackai-0.1.6:\n",
      "      Successfully uninstalled vectorstackai-0.1.6\n",
      "Successfully installed vectorstackai-0.2.1\n",
      "\n",
      "\u001b[1m[\u001b[0m\u001b[34;49mnotice\u001b[0m\u001b[1;39;49m]\u001b[0m\u001b[39;49m A new release of pip is available: \u001b[0m\u001b[31;49m24.3.1\u001b[0m\u001b[39;49m -> \u001b[0m\u001b[32;49m25.0.1\u001b[0m\n",
      "\u001b[1m[\u001b[0m\u001b[34;49mnotice\u001b[0m\u001b[1;39;49m]\u001b[0m\u001b[39;49m To update, run: \u001b[0m\u001b[32;49mpip install --upgrade pip\u001b[0m\n",
      "Note: you may need to restart the kernel to use updated packages.\n"
     ]
    }
   ],
   "source": [
    "%pip install vectorstackai -U "
   ]
  },
  {
   "cell_type": "markdown",
   "metadata": {},
   "source": [
    "## **2. Get an API key**\n",
    "You will need an API key to use the SDK. \n",
    "You can get it by signing up on the [VectorStackAI website](https://vectorstack.ai).\n",
    "\n",
    "## **3. Generating Embeddings**\n",
    "This section covers generating embeddings for both **documents** and **queries**.\n",
    "\n",
    "### **3.1 Generating Embeddings for Documents**\n",
    "To generate embeddings, first import the vectorstackai package and create a client object with your API key:"
   ]
  },
  {
   "cell_type": "code",
   "execution_count": 12,
   "metadata": {},
   "outputs": [],
   "source": [
    "import vectorstackai\n",
    "import numpy as np\n",
    "\n",
    "# Replace with your actual API key\n",
    "api_key = \"your_api_key\"\n",
    "client = vectorstackai.Client(api_key=api_key, timeout=30)"
   ]
  },
  {
   "cell_type": "markdown",
   "metadata": {},
   "source": [
    "Once, the client object is created, you can use the `client.embed` method to generate embeddings for a list of documents.\n",
    "\n",
    "The method takes the following parameters:\n",
    "\n",
    "- `texts`: A list of text documents to embed\n",
    "- `model`: The name of the embedding model to use (e.g. 'vstackai-law-1' for legal documents)\n",
    "- `is_query`: A boolean flag indicating whether the texts are queries (`True`) or documents (`False`)\n",
    "\n",
    "The method returns an `EmbeddingObject` containing the generated embeddings.\n",
    "The embeddings are in numpy array format, and can be accessed using the `embeddings` attribute of the `EmbeddingObject`.\n",
    "\n",
    "For more details on the `embed` method, checkout the API reference [here](https://docs.vectorstack.ai/embeddings/reference.html)."
   ]
  },
  {
   "cell_type": "code",
   "execution_count": 6,
   "metadata": {},
   "outputs": [],
   "source": [
    "# Documents related to law domain (e.g., court cases, consumer contracts, etc.)\n",
    "documents = [\n",
    "    \"The defendant was charged with violation of contract terms in the lease agreement signed on January 1, 2022.\",\n",
    "    \"This contract stipulates that the consumer has 30 days to return the product in case of any manufacturing defects.\",\n",
    "    \"In the case of Smith v. Johnson, the court ruled that the plaintiff had the right to claim damages under section 12 of the Consumer Protection Act.\"\n",
    "]\n",
    "\n",
    "# Get embeddings for the legal documents\n",
    "doc_embeddings = client.embed(texts=documents, model='vstackai-law-1', is_query=False)\n",
    "doc_embeddings = doc_embeddings.embeddings  # (3, 1536) numpy array"
   ]
  },
  {
   "cell_type": "markdown",
   "metadata": {},
   "source": [
    "### **3.2 Generating Embeddings for Queries**\n",
    "Now, let's generate embeddings for a query.\n",
    "\n",
    "Since `vstackai-law-1` is an instruction-tuned model, it is recommended to provide an instruction when embedding queries. This helps guide the model to produce embeddings that are more relevant to the task/instruction.\n",
    "You can learn more about instruction-tuned models [here](https://instructor-embedding.github.io)."
   ]
  },
  {
   "cell_type": "code",
   "execution_count": 13,
   "metadata": {},
   "outputs": [],
   "source": [
    "# Encode a query\n",
    "query = \"How many days does the consumer have to return the product?\"\n",
    "query_embedding = client.embed(\n",
    "    texts=[query], \n",
    "    model='vstackai-law-1', \n",
    "    is_query=True, \n",
    "    instruction='Represent the query for searching legal documents'\n",
    ")\n",
    "query_embedding = query_embedding.embeddings  # (1, 1536) numpy array"
   ]
  },
  {
   "cell_type": "markdown",
   "metadata": {},
   "source": [
    "## **4. Computing Similarity**\n",
    "Once you have embeddings for both documents and queries, you can compute similarity scores to find the most relevant match.\n",
    "\n",
    "Below, we compute the dot product of the document embeddings and the query embedding to get the similarity scores. You can use other similarity metrics as well (eg. cosine similarity, euclidean distance, etc.)."
   ]
  },
  {
   "cell_type": "code",
   "execution_count": 14,
   "metadata": {},
   "outputs": [
    {
     "name": "stdout",
     "output_type": "stream",
     "text": [
      "[[0.3557]\n",
      " [0.774 ]\n",
      " [0.4336]]\n"
     ]
    }
   ],
   "source": [
    "# Compute similarity between query and documents\n",
    "similarities = np.dot(doc_embeddings, query_embedding.T)\n",
    "print(similarities)\n",
    "# Example output:\n",
    "# array([[0.355],\n",
    "#        [0.772],\n",
    "#        [0.433]])"
   ]
  },
  {
   "cell_type": "markdown",
   "metadata": {},
   "source": [
    "The document with the highest similarity score corresponds to the most relevant match for the query.\n",
    "\n",
    "## **5. Conclusion**\n",
    "This concludes the quickstart guide. You can now use the VectorStackAI Embeddings service to generate embeddings for your documents and queries."
   ]
  }
 ],
 "metadata": {
  "kernelspec": {
   "display_name": "test_temp",
   "language": "python",
   "name": "test_temp"
  },
  "language_info": {
   "codemirror_mode": {
    "name": "ipython",
    "version": 3
   },
   "file_extension": ".py",
   "mimetype": "text/x-python",
   "name": "python",
   "nbconvert_exporter": "python",
   "pygments_lexer": "ipython3",
   "version": "3.10.12"
  }
 },
 "nbformat": 4,
 "nbformat_minor": 2
}
